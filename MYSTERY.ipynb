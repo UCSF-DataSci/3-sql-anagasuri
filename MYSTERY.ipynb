{
 "cells": [
  {
   "cell_type": "markdown",
   "id": "ebb94371",
   "metadata": {},
   "source": [
    "# SQL Murder Mystery\n",
    "\n",
    "## Can you find out whodunnit?\n",
    "\n",
    "![A decorative illustration of a detective looking at an evidence board.](https://mystery.knightlab.com/174092-clue-illustration.png)\n",
    "\n",
    "There's been a Murder in SQL City! The SQL Murder Mystery is designed to be both a self-directed lesson to learn SQL concepts and commands and a fun game for experienced SQL users to solve an intriguing crime.\n",
    "\n",
    "## SQL sleuths start here\n",
    "\n",
    "A crime has taken place and the detective needs your help. The detective gave you the crime scene report, but you somehow lost it. You vaguely remember that the crime was a **​murder​**that occurred sometime on ​**Jan.15, 2018​** and that it took place in ​**SQL City​**. Start by retrieving the corresponding crime scene report from the police department’s database.\n",
    "\n",
    "### Exploring the Database Structure\n",
    "\n",
    "Experienced SQL users can often use database queries to infer the structure of a database. But each database system has different ways of managing this information. The SQL Murder Mystery is built using SQLite. Use this SQL command to find the tables in the Murder Mystery database.\n",
    "\n",
    "Run this query to find the names of the tables in this database.\n",
    "\n",
    "This command is specific to SQLite. For other databases, you'll have to learn their specific syntax.\n"
   ]
  },
  {
   "cell_type": "code",
   "execution_count": 1,
   "id": "1370e6a4",
   "metadata": {},
   "outputs": [
    {
     "name": "stdout",
     "output_type": "stream",
     "text": [
      "Note: you may need to restart the kernel to use updated packages.\n",
      "Requirement already satisfied: prettytable==3.7.0 in /home/codespace/.python/current/lib/python3.12/site-packages (3.7.0)\n",
      "Requirement already satisfied: wcwidth in /home/codespace/.local/lib/python3.12/site-packages (from prettytable==3.7.0) (0.2.13)\n",
      "Note: you may need to restart the kernel to use updated packages.\n"
     ]
    }
   ],
   "source": [
    "# Install required packages\n",
    "%pip install ipython-sql sqlalchemy pandas --quiet\n",
    "\n",
    "# Load SQL magic\n",
    "%load_ext sql\n",
    "\n",
    "# Connect to the database\n",
    "%sql sqlite:///sql-murder-mystery.db\n",
    "\n",
    "%pip install prettytable==3.7.0\n"
   ]
  },
  {
   "cell_type": "code",
   "execution_count": 2,
   "id": "2f0d9254",
   "metadata": {},
   "outputs": [
    {
     "name": "stdout",
     "output_type": "stream",
     "text": [
      " * sqlite:///sql-murder-mystery.db\n",
      "Done.\n"
     ]
    },
    {
     "data": {
      "text/html": [
       "<table>\n",
       "    <thead>\n",
       "        <tr>\n",
       "            <th>name</th>\n",
       "        </tr>\n",
       "    </thead>\n",
       "    <tbody>\n",
       "        <tr>\n",
       "            <td>crime_scene_report</td>\n",
       "        </tr>\n",
       "        <tr>\n",
       "            <td>drivers_license</td>\n",
       "        </tr>\n",
       "        <tr>\n",
       "            <td>facebook_event_checkin</td>\n",
       "        </tr>\n",
       "        <tr>\n",
       "            <td>interview</td>\n",
       "        </tr>\n",
       "        <tr>\n",
       "            <td>get_fit_now_member</td>\n",
       "        </tr>\n",
       "        <tr>\n",
       "            <td>get_fit_now_check_in</td>\n",
       "        </tr>\n",
       "        <tr>\n",
       "            <td>solution</td>\n",
       "        </tr>\n",
       "        <tr>\n",
       "            <td>income</td>\n",
       "        </tr>\n",
       "        <tr>\n",
       "            <td>person</td>\n",
       "        </tr>\n",
       "    </tbody>\n",
       "</table>"
      ],
      "text/plain": [
       "[('crime_scene_report',),\n",
       " ('drivers_license',),\n",
       " ('facebook_event_checkin',),\n",
       " ('interview',),\n",
       " ('get_fit_now_member',),\n",
       " ('get_fit_now_check_in',),\n",
       " ('solution',),\n",
       " ('income',),\n",
       " ('person',)]"
      ]
     },
     "execution_count": 2,
     "metadata": {},
     "output_type": "execute_result"
    }
   ],
   "source": [
    "%%sql\n",
    "SELECT name\n",
    "FROM sqlite_master\n",
    "where type = 'table';"
   ]
  },
  {
   "cell_type": "markdown",
   "id": "c71b53aa",
   "metadata": {},
   "source": [
    "\n",
    "Besides knowing the table names, you need to know how each table is structured. The way this works is also dependent upon which database technology you use. Here's how you do it with SQLite.\n",
    "\n",
    "Run this query to find the structure of the `crime_scene_report` table\n",
    "\n",
    "Change the value of 'name' to see the structure of the other tables you learned about with the previous query.\n"
   ]
  },
  {
   "cell_type": "code",
   "execution_count": 3,
   "id": "a977d922",
   "metadata": {},
   "outputs": [
    {
     "name": "stdout",
     "output_type": "stream",
     "text": [
      " * sqlite:///sql-murder-mystery.db\n",
      "Done.\n"
     ]
    },
    {
     "data": {
      "text/html": [
       "<table>\n",
       "    <thead>\n",
       "        <tr>\n",
       "            <th>sql</th>\n",
       "        </tr>\n",
       "    </thead>\n",
       "    <tbody>\n",
       "        <tr>\n",
       "            <td>CREATE TABLE crime_scene_report (<br>        date integer,<br>        type text,<br>        description text,<br>        city text<br>    )</td>\n",
       "        </tr>\n",
       "    </tbody>\n",
       "</table>"
      ],
      "text/plain": [
       "[('CREATE TABLE crime_scene_report (\\n        date integer,\\n        type text,\\n        description text,\\n        city text\\n    )',)]"
      ]
     },
     "execution_count": 3,
     "metadata": {},
     "output_type": "execute_result"
    }
   ],
   "source": [
    "%%sql\n",
    "SELECT sql\n",
    "FROM sqlite_master\n",
    "where name = 'crime_scene_report'"
   ]
  },
  {
   "cell_type": "code",
   "execution_count": 4,
   "id": "e7e280ba",
   "metadata": {},
   "outputs": [
    {
     "name": "stdout",
     "output_type": "stream",
     "text": [
      " * sqlite:///sql-murder-mystery.db\n",
      "Done.\n"
     ]
    },
    {
     "data": {
      "text/html": [
       "<table>\n",
       "    <thead>\n",
       "        <tr>\n",
       "            <th>date</th>\n",
       "            <th>type</th>\n",
       "            <th>description</th>\n",
       "            <th>city</th>\n",
       "        </tr>\n",
       "    </thead>\n",
       "    <tbody>\n",
       "        <tr>\n",
       "            <td>20180115</td>\n",
       "            <td>murder</td>\n",
       "            <td>Security footage shows that there were 2 witnesses. The first witness lives at the last house on &quot;Northwestern Dr&quot;. The second witness, named Annabel, lives somewhere on &quot;Franklin Ave&quot;.</td>\n",
       "            <td>SQL City</td>\n",
       "        </tr>\n",
       "    </tbody>\n",
       "</table>"
      ],
      "text/plain": [
       "[(20180115, 'murder', 'Security footage shows that there were 2 witnesses. The first witness lives at the last house on \"Northwestern Dr\". The second witness, named Annabel, lives somewhere on \"Franklin Ave\".', 'SQL City')]"
      ]
     },
     "execution_count": 4,
     "metadata": {},
     "output_type": "execute_result"
    }
   ],
   "source": [
    "%%sql\n",
    "SELECT *\n",
    "FROM crime_scene_report\n",
    "WHERE date = 20180115\n",
    "  AND type = 'murder'\n",
    "  AND city = 'SQL City';"
   ]
  },
  {
   "cell_type": "code",
   "execution_count": 5,
   "id": "62713eaa",
   "metadata": {},
   "outputs": [
    {
     "name": "stdout",
     "output_type": "stream",
     "text": [
      " * sqlite:///sql-murder-mystery.db\n",
      "Done.\n",
      "Done.\n"
     ]
    },
    {
     "data": {
      "text/html": [
       "<table>\n",
       "    <thead>\n",
       "        <tr>\n",
       "            <th>id</th>\n",
       "            <th>name</th>\n",
       "        </tr>\n",
       "    </thead>\n",
       "    <tbody>\n",
       "        <tr>\n",
       "            <td>14887</td>\n",
       "            <td>Morty Schapiro</td>\n",
       "        </tr>\n",
       "    </tbody>\n",
       "</table>"
      ],
      "text/plain": [
       "[(14887, 'Morty Schapiro')]"
      ]
     },
     "execution_count": 5,
     "metadata": {},
     "output_type": "execute_result"
    }
   ],
   "source": [
    "%%sql\n",
    "SELECT id, name\n",
    "FROM person\n",
    "WHERE name = 'Annabel Miller';\n",
    "\n",
    "\n",
    "SELECT id, name\n",
    "FROM person\n",
    "WHERE name = 'Morty Schapiro';"
   ]
  },
  {
   "cell_type": "code",
   "execution_count": 6,
   "id": "9ec55ccc",
   "metadata": {},
   "outputs": [
    {
     "name": "stdout",
     "output_type": "stream",
     "text": [
      " * sqlite:///sql-murder-mystery.db\n",
      "Done.\n",
      "Done.\n"
     ]
    },
    {
     "data": {
      "text/html": [
       "<table>\n",
       "    <thead>\n",
       "        <tr>\n",
       "            <th>person_id</th>\n",
       "            <th>transcript</th>\n",
       "        </tr>\n",
       "    </thead>\n",
       "    <tbody>\n",
       "        <tr>\n",
       "            <td>16371</td>\n",
       "            <td>I saw the murder happen, and I recognized the killer from my gym when I was working out last week on January the 9th.</td>\n",
       "        </tr>\n",
       "    </tbody>\n",
       "</table>"
      ],
      "text/plain": [
       "[(16371, 'I saw the murder happen, and I recognized the killer from my gym when I was working out last week on January the 9th.')]"
      ]
     },
     "execution_count": 6,
     "metadata": {},
     "output_type": "execute_result"
    }
   ],
   "source": [
    "%%sql\n",
    "SELECT *\n",
    "FROM interview\n",
    "WHERE person_id = 14887;\n",
    "\n",
    "-- and\n",
    "\n",
    "SELECT *\n",
    "FROM interview\n",
    "WHERE person_id = 16371;\n"
   ]
  },
  {
   "cell_type": "code",
   "execution_count": 7,
   "id": "0d9cd8aa",
   "metadata": {},
   "outputs": [
    {
     "name": "stdout",
     "output_type": "stream",
     "text": [
      " * sqlite:///sql-murder-mystery.db\n",
      "Done.\n"
     ]
    },
    {
     "data": {
      "text/html": [
       "<table>\n",
       "    <thead>\n",
       "        <tr>\n",
       "            <th>id</th>\n",
       "            <th>person_id</th>\n",
       "            <th>name</th>\n",
       "            <th>membership_start_date</th>\n",
       "            <th>membership_status</th>\n",
       "        </tr>\n",
       "    </thead>\n",
       "    <tbody>\n",
       "        <tr>\n",
       "            <td>48Z38</td>\n",
       "            <td>49550</td>\n",
       "            <td>Tomas Baisley</td>\n",
       "            <td>20170203</td>\n",
       "            <td>silver</td>\n",
       "        </tr>\n",
       "        <tr>\n",
       "            <td>48Z7A</td>\n",
       "            <td>28819</td>\n",
       "            <td>Joe Germuska</td>\n",
       "            <td>20160305</td>\n",
       "            <td>gold</td>\n",
       "        </tr>\n",
       "        <tr>\n",
       "            <td>48Z55</td>\n",
       "            <td>67318</td>\n",
       "            <td>Jeremy Bowers</td>\n",
       "            <td>20160101</td>\n",
       "            <td>gold</td>\n",
       "        </tr>\n",
       "    </tbody>\n",
       "</table>"
      ],
      "text/plain": [
       "[('48Z38', 49550, 'Tomas Baisley', 20170203, 'silver'),\n",
       " ('48Z7A', 28819, 'Joe Germuska', 20160305, 'gold'),\n",
       " ('48Z55', 67318, 'Jeremy Bowers', 20160101, 'gold')]"
      ]
     },
     "execution_count": 7,
     "metadata": {},
     "output_type": "execute_result"
    }
   ],
   "source": [
    "%%sql\n",
    "SELECT *\n",
    "FROM get_fit_now_member\n",
    "WHERE id LIKE '48Z%';"
   ]
  },
  {
   "cell_type": "code",
   "execution_count": 8,
   "id": "7ba6389f",
   "metadata": {},
   "outputs": [
    {
     "name": "stdout",
     "output_type": "stream",
     "text": [
      " * sqlite:///sql-murder-mystery.db\n",
      "Done.\n"
     ]
    },
    {
     "data": {
      "text/html": [
       "<table>\n",
       "    <thead>\n",
       "        <tr>\n",
       "            <th>membership_id</th>\n",
       "            <th>check_in_date</th>\n",
       "            <th>check_in_time</th>\n",
       "            <th>check_out_time</th>\n",
       "        </tr>\n",
       "    </thead>\n",
       "    <tbody>\n",
       "        <tr>\n",
       "            <td>48Z7A</td>\n",
       "            <td>20180109</td>\n",
       "            <td>1600</td>\n",
       "            <td>1730</td>\n",
       "        </tr>\n",
       "        <tr>\n",
       "            <td>48Z55</td>\n",
       "            <td>20180109</td>\n",
       "            <td>1530</td>\n",
       "            <td>1700</td>\n",
       "        </tr>\n",
       "    </tbody>\n",
       "</table>"
      ],
      "text/plain": [
       "[('48Z7A', 20180109, 1600, 1730), ('48Z55', 20180109, 1530, 1700)]"
      ]
     },
     "execution_count": 8,
     "metadata": {},
     "output_type": "execute_result"
    }
   ],
   "source": [
    "%%sql\n",
    "SELECT *\n",
    "FROM get_fit_now_check_in\n",
    "WHERE membership_id IN ('48Z7A', '48Z55') -- update based on previous result\n",
    "  AND check_in_date = 20180109;\n"
   ]
  },
  {
   "cell_type": "code",
   "execution_count": 9,
   "id": "32ef430f",
   "metadata": {},
   "outputs": [
    {
     "name": "stdout",
     "output_type": "stream",
     "text": [
      " * sqlite:///sql-murder-mystery.db\n",
      "Done.\n"
     ]
    },
    {
     "data": {
      "text/html": [
       "<table>\n",
       "    <thead>\n",
       "        <tr>\n",
       "            <th>id</th>\n",
       "            <th>name</th>\n",
       "            <th>license_id</th>\n",
       "            <th>address_number</th>\n",
       "            <th>address_street_name</th>\n",
       "            <th>ssn</th>\n",
       "        </tr>\n",
       "    </thead>\n",
       "    <tbody>\n",
       "        <tr>\n",
       "            <td>28819</td>\n",
       "            <td>Joe Germuska</td>\n",
       "            <td>173289</td>\n",
       "            <td>111</td>\n",
       "            <td>Fisk Rd</td>\n",
       "            <td>138909730</td>\n",
       "        </tr>\n",
       "        <tr>\n",
       "            <td>67318</td>\n",
       "            <td>Jeremy Bowers</td>\n",
       "            <td>423327</td>\n",
       "            <td>530</td>\n",
       "            <td>Washington Pl, Apt 3A</td>\n",
       "            <td>871539279</td>\n",
       "        </tr>\n",
       "    </tbody>\n",
       "</table>"
      ],
      "text/plain": [
       "[(28819, 'Joe Germuska', 173289, 111, 'Fisk Rd', '138909730'),\n",
       " (67318, 'Jeremy Bowers', 423327, 530, 'Washington Pl, Apt 3A', '871539279')]"
      ]
     },
     "execution_count": 9,
     "metadata": {},
     "output_type": "execute_result"
    }
   ],
   "source": [
    "%%sql\n",
    "SELECT *\n",
    "FROM person\n",
    "WHERE id IN (28819, 67318);  -- use actual person_id(s)\n"
   ]
  },
  {
   "cell_type": "code",
   "execution_count": 10,
   "id": "49539c9f",
   "metadata": {},
   "outputs": [
    {
     "name": "stdout",
     "output_type": "stream",
     "text": [
      " * sqlite:///sql-murder-mystery.db\n",
      "Done.\n"
     ]
    },
    {
     "data": {
      "text/html": [
       "<table>\n",
       "    <thead>\n",
       "        <tr>\n",
       "            <th>id</th>\n",
       "            <th>age</th>\n",
       "            <th>height</th>\n",
       "            <th>eye_color</th>\n",
       "            <th>hair_color</th>\n",
       "            <th>gender</th>\n",
       "            <th>plate_number</th>\n",
       "            <th>car_make</th>\n",
       "            <th>car_model</th>\n",
       "        </tr>\n",
       "    </thead>\n",
       "    <tbody>\n",
       "        <tr>\n",
       "            <td>183779</td>\n",
       "            <td>21</td>\n",
       "            <td>65</td>\n",
       "            <td>blue</td>\n",
       "            <td>blonde</td>\n",
       "            <td>female</td>\n",
       "            <td>H42W0X</td>\n",
       "            <td>Toyota</td>\n",
       "            <td>Prius</td>\n",
       "        </tr>\n",
       "        <tr>\n",
       "            <td>423327</td>\n",
       "            <td>30</td>\n",
       "            <td>70</td>\n",
       "            <td>brown</td>\n",
       "            <td>brown</td>\n",
       "            <td>male</td>\n",
       "            <td>0H42W2</td>\n",
       "            <td>Chevrolet</td>\n",
       "            <td>Spark LS</td>\n",
       "        </tr>\n",
       "        <tr>\n",
       "            <td>664760</td>\n",
       "            <td>21</td>\n",
       "            <td>71</td>\n",
       "            <td>black</td>\n",
       "            <td>black</td>\n",
       "            <td>male</td>\n",
       "            <td>4H42WR</td>\n",
       "            <td>Nissan</td>\n",
       "            <td>Altima</td>\n",
       "        </tr>\n",
       "    </tbody>\n",
       "</table>"
      ],
      "text/plain": [
       "[(183779, 21, 65, 'blue', 'blonde', 'female', 'H42W0X', 'Toyota', 'Prius'),\n",
       " (423327, 30, 70, 'brown', 'brown', 'male', '0H42W2', 'Chevrolet', 'Spark LS'),\n",
       " (664760, 21, 71, 'black', 'black', 'male', '4H42WR', 'Nissan', 'Altima')]"
      ]
     },
     "execution_count": 10,
     "metadata": {},
     "output_type": "execute_result"
    }
   ],
   "source": [
    "%%sql\n",
    "SELECT *\n",
    "FROM drivers_license\n",
    "WHERE plate_number LIKE '%H42W%';"
   ]
  },
  {
   "cell_type": "code",
   "execution_count": 11,
   "id": "aee5c59f",
   "metadata": {},
   "outputs": [
    {
     "name": "stdout",
     "output_type": "stream",
     "text": [
      " * sqlite:///sql-murder-mystery.db\n",
      "Done.\n"
     ]
    },
    {
     "data": {
      "text/html": [
       "<table>\n",
       "    <thead>\n",
       "        <tr>\n",
       "            <th>id</th>\n",
       "            <th>name</th>\n",
       "            <th>license_id</th>\n",
       "            <th>address_number</th>\n",
       "            <th>address_street_name</th>\n",
       "            <th>ssn</th>\n",
       "        </tr>\n",
       "    </thead>\n",
       "    <tbody>\n",
       "        <tr>\n",
       "            <td>51739</td>\n",
       "            <td>Tushar Chandra</td>\n",
       "            <td>664760</td>\n",
       "            <td>312</td>\n",
       "            <td>Phi St</td>\n",
       "            <td>137882671</td>\n",
       "        </tr>\n",
       "        <tr>\n",
       "            <td>67318</td>\n",
       "            <td>Jeremy Bowers</td>\n",
       "            <td>423327</td>\n",
       "            <td>530</td>\n",
       "            <td>Washington Pl, Apt 3A</td>\n",
       "            <td>871539279</td>\n",
       "        </tr>\n",
       "    </tbody>\n",
       "</table>"
      ],
      "text/plain": [
       "[(51739, 'Tushar Chandra', 664760, 312, 'Phi St', '137882671'),\n",
       " (67318, 'Jeremy Bowers', 423327, 530, 'Washington Pl, Apt 3A', '871539279')]"
      ]
     },
     "execution_count": 11,
     "metadata": {},
     "output_type": "execute_result"
    }
   ],
   "source": [
    "%%sql\n",
    "SELECT *\n",
    "FROM person\n",
    "WHERE license_id IN (423327, 664760); -- use license ids from above\n"
   ]
  },
  {
   "cell_type": "code",
   "execution_count": 12,
   "id": "718e0268",
   "metadata": {},
   "outputs": [
    {
     "name": "stdout",
     "output_type": "stream",
     "text": [
      " * sqlite:///sql-murder-mystery.db\n",
      "Done.\n"
     ]
    },
    {
     "data": {
      "text/html": [
       "<table>\n",
       "    <thead>\n",
       "        <tr>\n",
       "            <th>person_id</th>\n",
       "            <th>event_id</th>\n",
       "            <th>event_name</th>\n",
       "            <th>date</th>\n",
       "        </tr>\n",
       "    </thead>\n",
       "    <tbody>\n",
       "        <tr>\n",
       "            <td>67318</td>\n",
       "            <td>1143</td>\n",
       "            <td>SQL Symphony Concert</td>\n",
       "            <td>20171206</td>\n",
       "        </tr>\n",
       "    </tbody>\n",
       "</table>"
      ],
      "text/plain": [
       "[(67318, 1143, 'SQL Symphony Concert', 20171206)]"
      ]
     },
     "execution_count": 12,
     "metadata": {},
     "output_type": "execute_result"
    }
   ],
   "source": [
    "%%sql\n",
    "SELECT *\n",
    "FROM facebook_event_checkin\n",
    "WHERE event_name = 'SQL Symphony Concert'\n",
    "  AND person_id IN (28819, 67318);  -- the narrowed suspects\n"
   ]
  },
  {
   "cell_type": "code",
   "execution_count": 13,
   "id": "5b237ebf",
   "metadata": {},
   "outputs": [
    {
     "name": "stdout",
     "output_type": "stream",
     "text": [
      " * sqlite:///sql-murder-mystery.db\n",
      "Done.\n"
     ]
    },
    {
     "data": {
      "text/html": [
       "<table>\n",
       "    <thead>\n",
       "        <tr>\n",
       "            <th>id</th>\n",
       "            <th>name</th>\n",
       "            <th>license_id</th>\n",
       "            <th>address_number</th>\n",
       "            <th>address_street_name</th>\n",
       "            <th>ssn</th>\n",
       "        </tr>\n",
       "    </thead>\n",
       "    <tbody>\n",
       "        <tr>\n",
       "            <td>67318</td>\n",
       "            <td>Jeremy Bowers</td>\n",
       "            <td>423327</td>\n",
       "            <td>530</td>\n",
       "            <td>Washington Pl, Apt 3A</td>\n",
       "            <td>871539279</td>\n",
       "        </tr>\n",
       "    </tbody>\n",
       "</table>"
      ],
      "text/plain": [
       "[(67318, 'Jeremy Bowers', 423327, 530, 'Washington Pl, Apt 3A', '871539279')]"
      ]
     },
     "execution_count": 13,
     "metadata": {},
     "output_type": "execute_result"
    }
   ],
   "source": [
    "%%sql\n",
    "SELECT *\n",
    "FROM person\n",
    "WHERE id = 67318;\n"
   ]
  },
  {
   "cell_type": "markdown",
   "id": "d9789bc7",
   "metadata": {},
   "source": [
    "\n",
    "### The rest is up to you!\n",
    "\n",
    "If you're really comfortable with SQL, you can probably get it from here. To help, here is the schema diagram:\n",
    "\n",
    "![schema diagram](schema.png)\n",
    "\n",
    "Use your knowledge of the database schema and SQL commands to find out who committed the murder.\n",
    "### Check your solution\n",
    "\n",
    "Did you find the killer? When you think you know the answer, submit your suspect using the following code and find out if you're right.\n"
   ]
  },
  {
   "cell_type": "code",
   "execution_count": 14,
   "id": "830ea4a6",
   "metadata": {},
   "outputs": [
    {
     "name": "stdout",
     "output_type": "stream",
     "text": [
      " * sqlite:///sql-murder-mystery.db\n",
      "1 rows affected.\n",
      "Done.\n"
     ]
    },
    {
     "data": {
      "text/html": [
       "<table>\n",
       "    <thead>\n",
       "        <tr>\n",
       "            <th>value</th>\n",
       "        </tr>\n",
       "    </thead>\n",
       "    <tbody>\n",
       "        <tr>\n",
       "            <td>Congrats, you found the murderer! But wait, there&#x27;s more... If you think you&#x27;re up for a challenge, try querying the interview transcript of the murderer to find the real villain behind this crime. If you feel especially confident in your SQL skills, try to complete this final step with no more than 2 queries. Use this same INSERT statement with your new suspect to check your answer.</td>\n",
       "        </tr>\n",
       "    </tbody>\n",
       "</table>"
      ],
      "text/plain": [
       "[(\"Congrats, you found the murderer! But wait, there's more... If you think you're up for a challenge, try querying the interview transcript of the murd ... (88 characters truncated) ... r SQL skills, try to complete this final step with no more than 2 queries. Use this same INSERT statement with your new suspect to check your answer.\",)]"
      ]
     },
     "execution_count": 14,
     "metadata": {},
     "output_type": "execute_result"
    }
   ],
   "source": [
    "%%sql\n",
    "INSERT INTO solution VALUES (1, 'Jeremy Bowers');\n",
    "SELECT value FROM solution;"
   ]
  },
  {
   "cell_type": "code",
   "execution_count": null,
   "id": "284072e2",
   "metadata": {},
   "outputs": [],
   "source": []
  }
 ],
 "metadata": {
  "kernelspec": {
   "display_name": "Python 3",
   "language": "python",
   "name": "python3"
  },
  "language_info": {
   "codemirror_mode": {
    "name": "ipython",
    "version": 3
   },
   "file_extension": ".py",
   "mimetype": "text/x-python",
   "name": "python",
   "nbconvert_exporter": "python",
   "pygments_lexer": "ipython3",
   "version": "3.12.1"
  }
 },
 "nbformat": 4,
 "nbformat_minor": 5
}
